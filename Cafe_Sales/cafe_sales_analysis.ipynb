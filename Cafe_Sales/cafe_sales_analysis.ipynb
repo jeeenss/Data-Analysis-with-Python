{
 "cells": [
  {
   "cell_type": "code",
   "execution_count": 1,
   "id": "07942f66-ff92-4e8a-9cb0-366652ce3e6c",
   "metadata": {},
   "outputs": [],
   "source": [
    "import pandas as pd\n",
    "import numpy as np\n",
    "import matplotlib.pyplot as plt"
   ]
  },
  {
   "cell_type": "code",
   "execution_count": 2,
   "id": "bbf8d570-ee43-4e13-a3f3-b4ce931970bb",
   "metadata": {},
   "outputs": [],
   "source": [
    "df_raw = pd.read_csv('data/dirty_cafe_sales.csv', sep=';')"
   ]
  },
  {
   "cell_type": "code",
   "execution_count": 3,
   "id": "4b5a9702-93e2-48bb-ac04-fc945b9c8823",
   "metadata": {},
   "outputs": [],
   "source": [
    "item_price_mapping = {\n",
    "    'Coffee': 2.0,\n",
    "    'Tea': 1.5,\n",
    "    'Sandwich': 4.5, #\n",
    "    'Salad': 5.0,\n",
    "    'Cake': 3.5, #\n",
    "    'Cookie': 1.0,\n",
    "    'Smoothie': 4.0,\n",
    "    'Juice': 3.0\n",
    "}"
   ]
  },
  {
   "cell_type": "code",
   "execution_count": 4,
   "id": "ab14da6f-0707-4abf-838b-5bc0930e49c3",
   "metadata": {},
   "outputs": [
    {
     "data": {
      "text/html": [
       "<div>\n",
       "<style scoped>\n",
       "    .dataframe tbody tr th:only-of-type {\n",
       "        vertical-align: middle;\n",
       "    }\n",
       "\n",
       "    .dataframe tbody tr th {\n",
       "        vertical-align: top;\n",
       "    }\n",
       "\n",
       "    .dataframe thead th {\n",
       "        text-align: right;\n",
       "    }\n",
       "</style>\n",
       "<table border=\"1\" class=\"dataframe\">\n",
       "  <thead>\n",
       "    <tr style=\"text-align: right;\">\n",
       "      <th></th>\n",
       "      <th>Transaction ID</th>\n",
       "      <th>Item</th>\n",
       "      <th>Quantity</th>\n",
       "      <th>Price Per Unit</th>\n",
       "      <th>Total Spent</th>\n",
       "      <th>Payment Method</th>\n",
       "      <th>Location</th>\n",
       "      <th>Transaction Date</th>\n",
       "    </tr>\n",
       "  </thead>\n",
       "  <tbody>\n",
       "    <tr>\n",
       "      <th>0</th>\n",
       "      <td>TXN_1005331</td>\n",
       "      <td>Coffee</td>\n",
       "      <td>1</td>\n",
       "      <td>2</td>\n",
       "      <td>2</td>\n",
       "      <td>Digital Wallet</td>\n",
       "      <td>Takeaway</td>\n",
       "      <td>04/11/23</td>\n",
       "    </tr>\n",
       "    <tr>\n",
       "      <th>1</th>\n",
       "      <td>TXN_1005472</td>\n",
       "      <td>Coffee</td>\n",
       "      <td>4</td>\n",
       "      <td>2</td>\n",
       "      <td>8</td>\n",
       "      <td>Credit Card</td>\n",
       "      <td>NaN</td>\n",
       "      <td>21/04/23</td>\n",
       "    </tr>\n",
       "    <tr>\n",
       "      <th>2</th>\n",
       "      <td>TXN_1016246</td>\n",
       "      <td>Coffee</td>\n",
       "      <td>1</td>\n",
       "      <td>2</td>\n",
       "      <td>2</td>\n",
       "      <td>ERROR</td>\n",
       "      <td>NaN</td>\n",
       "      <td>19/01/23</td>\n",
       "    </tr>\n",
       "    <tr>\n",
       "      <th>3</th>\n",
       "      <td>TXN_1020478</td>\n",
       "      <td>Coffee</td>\n",
       "      <td>1</td>\n",
       "      <td>2</td>\n",
       "      <td>2</td>\n",
       "      <td>Digital Wallet</td>\n",
       "      <td>Takeaway</td>\n",
       "      <td>09/03/23</td>\n",
       "    </tr>\n",
       "    <tr>\n",
       "      <th>4</th>\n",
       "      <td>TXN_1040764</td>\n",
       "      <td>Coffee</td>\n",
       "      <td>3</td>\n",
       "      <td>2</td>\n",
       "      <td>6</td>\n",
       "      <td>Cash</td>\n",
       "      <td>Takeaway</td>\n",
       "      <td>27/07/23</td>\n",
       "    </tr>\n",
       "  </tbody>\n",
       "</table>\n",
       "</div>"
      ],
      "text/plain": [
       "  Transaction ID    Item Quantity Price Per Unit Total Spent  Payment Method  \\\n",
       "0    TXN_1005331  Coffee        1              2           2  Digital Wallet   \n",
       "1    TXN_1005472  Coffee        4              2           8     Credit Card   \n",
       "2    TXN_1016246  Coffee        1              2           2           ERROR   \n",
       "3    TXN_1020478  Coffee        1              2           2  Digital Wallet   \n",
       "4    TXN_1040764  Coffee        3              2           6            Cash   \n",
       "\n",
       "   Location Transaction Date  \n",
       "0  Takeaway         04/11/23  \n",
       "1       NaN         21/04/23  \n",
       "2       NaN         19/01/23  \n",
       "3  Takeaway         09/03/23  \n",
       "4  Takeaway         27/07/23  "
      ]
     },
     "execution_count": 4,
     "metadata": {},
     "output_type": "execute_result"
    }
   ],
   "source": [
    "df_raw.head()"
   ]
  },
  {
   "cell_type": "code",
   "execution_count": 5,
   "id": "648dcbfa-2c0f-4295-9d6d-32f2321bbf6e",
   "metadata": {},
   "outputs": [
    {
     "name": "stdout",
     "output_type": "stream",
     "text": [
      "<class 'pandas.core.frame.DataFrame'>\n",
      "RangeIndex: 10000 entries, 0 to 9999\n",
      "Data columns (total 8 columns):\n",
      " #   Column            Non-Null Count  Dtype \n",
      "---  ------            --------------  ----- \n",
      " 0   Transaction ID    10000 non-null  object\n",
      " 1   Item              9667 non-null   object\n",
      " 2   Quantity          9862 non-null   object\n",
      " 3   Price Per Unit    9822 non-null   object\n",
      " 4   Total Spent       9850 non-null   object\n",
      " 5   Payment Method    7421 non-null   object\n",
      " 6   Location          6735 non-null   object\n",
      " 7   Transaction Date  9841 non-null   object\n",
      "dtypes: object(8)\n",
      "memory usage: 625.1+ KB\n"
     ]
    }
   ],
   "source": [
    "df_raw.info()"
   ]
  },
  {
   "cell_type": "markdown",
   "id": "a8351ebd-2624-411b-a5cf-583ba4d0c442",
   "metadata": {},
   "source": [
    "## Data Cleaning ##"
   ]
  },
  {
   "cell_type": "code",
   "execution_count": 6,
   "id": "af5d16ad-dbff-4a59-8a21-70763f537951",
   "metadata": {},
   "outputs": [
    {
     "data": {
      "text/plain": [
       "Transaction ID         0\n",
       "Item                 333\n",
       "Quantity             138\n",
       "Price Per Unit       178\n",
       "Total Spent          150\n",
       "Payment Method      2579\n",
       "Location            3265\n",
       "Transaction Date     159\n",
       "dtype: int64"
      ]
     },
     "execution_count": 6,
     "metadata": {},
     "output_type": "execute_result"
    }
   ],
   "source": [
    "df = df_raw.copy()\n",
    "df.isnull().sum()"
   ]
  },
  {
   "cell_type": "markdown",
   "id": "4e7b8104-591a-4f46-b2a4-344e09c7e98f",
   "metadata": {},
   "source": [
    "### 1. Item ### "
   ]
  },
  {
   "cell_type": "markdown",
   "id": "04ff1484-db9b-49dd-b775-0db782b26207",
   "metadata": {},
   "source": [
    "**1.1 Handling Missing Values**"
   ]
  },
  {
   "cell_type": "code",
   "execution_count": 7,
   "id": "2b614829-9695-4b9f-aee3-1970395c2b24",
   "metadata": {},
   "outputs": [
    {
     "data": {
      "text/html": [
       "<div>\n",
       "<style scoped>\n",
       "    .dataframe tbody tr th:only-of-type {\n",
       "        vertical-align: middle;\n",
       "    }\n",
       "\n",
       "    .dataframe tbody tr th {\n",
       "        vertical-align: top;\n",
       "    }\n",
       "\n",
       "    .dataframe thead th {\n",
       "        text-align: right;\n",
       "    }\n",
       "</style>\n",
       "<table border=\"1\" class=\"dataframe\">\n",
       "  <thead>\n",
       "    <tr style=\"text-align: right;\">\n",
       "      <th></th>\n",
       "      <th>Transaction ID</th>\n",
       "      <th>Item</th>\n",
       "      <th>Quantity</th>\n",
       "      <th>Price Per Unit</th>\n",
       "      <th>Total Spent</th>\n",
       "      <th>Payment Method</th>\n",
       "      <th>Location</th>\n",
       "      <th>Transaction Date</th>\n",
       "    </tr>\n",
       "  </thead>\n",
       "  <tbody>\n",
       "    <tr>\n",
       "      <th>7397</th>\n",
       "      <td>TXN_1054915</td>\n",
       "      <td>NaN</td>\n",
       "      <td>5</td>\n",
       "      <td>1</td>\n",
       "      <td>5</td>\n",
       "      <td>NaN</td>\n",
       "      <td>In-store</td>\n",
       "      <td>22/01/23</td>\n",
       "    </tr>\n",
       "    <tr>\n",
       "      <th>7398</th>\n",
       "      <td>TXN_1124900</td>\n",
       "      <td>NaN</td>\n",
       "      <td>4</td>\n",
       "      <td>4</td>\n",
       "      <td>16</td>\n",
       "      <td>Credit Card</td>\n",
       "      <td>In-store</td>\n",
       "      <td>08/09/23</td>\n",
       "    </tr>\n",
       "    <tr>\n",
       "      <th>7399</th>\n",
       "      <td>TXN_1165762</td>\n",
       "      <td>NaN</td>\n",
       "      <td>3</td>\n",
       "      <td>2</td>\n",
       "      <td>6</td>\n",
       "      <td>Credit Card</td>\n",
       "      <td>NaN</td>\n",
       "      <td>22/10/23</td>\n",
       "    </tr>\n",
       "    <tr>\n",
       "      <th>7400</th>\n",
       "      <td>TXN_1166001</td>\n",
       "      <td>NaN</td>\n",
       "      <td>UNKNOWN</td>\n",
       "      <td>3</td>\n",
       "      <td>15</td>\n",
       "      <td>Cash</td>\n",
       "      <td>ERROR</td>\n",
       "      <td>NaN</td>\n",
       "    </tr>\n",
       "    <tr>\n",
       "      <th>7401</th>\n",
       "      <td>TXN_1205610</td>\n",
       "      <td>NaN</td>\n",
       "      <td>2</td>\n",
       "      <td>1</td>\n",
       "      <td>2</td>\n",
       "      <td>NaN</td>\n",
       "      <td>In-store</td>\n",
       "      <td>19/07/23</td>\n",
       "    </tr>\n",
       "    <tr>\n",
       "      <th>...</th>\n",
       "      <td>...</td>\n",
       "      <td>...</td>\n",
       "      <td>...</td>\n",
       "      <td>...</td>\n",
       "      <td>...</td>\n",
       "      <td>...</td>\n",
       "      <td>...</td>\n",
       "      <td>...</td>\n",
       "    </tr>\n",
       "    <tr>\n",
       "      <th>7725</th>\n",
       "      <td>TXN_9774251</td>\n",
       "      <td>NaN</td>\n",
       "      <td>2</td>\n",
       "      <td>3</td>\n",
       "      <td>6</td>\n",
       "      <td>Digital Wallet</td>\n",
       "      <td>Takeaway</td>\n",
       "      <td>16/06/23</td>\n",
       "    </tr>\n",
       "    <tr>\n",
       "      <th>7726</th>\n",
       "      <td>TXN_9810581</td>\n",
       "      <td>NaN</td>\n",
       "      <td>1</td>\n",
       "      <td>3</td>\n",
       "      <td>3</td>\n",
       "      <td>Cash</td>\n",
       "      <td>NaN</td>\n",
       "      <td>20/11/23</td>\n",
       "    </tr>\n",
       "    <tr>\n",
       "      <th>7727</th>\n",
       "      <td>TXN_9817602</td>\n",
       "      <td>NaN</td>\n",
       "      <td>2</td>\n",
       "      <td>4</td>\n",
       "      <td>8</td>\n",
       "      <td>Credit Card</td>\n",
       "      <td>Takeaway</td>\n",
       "      <td>26/12/23</td>\n",
       "    </tr>\n",
       "    <tr>\n",
       "      <th>7728</th>\n",
       "      <td>TXN_9945729</td>\n",
       "      <td>NaN</td>\n",
       "      <td>2</td>\n",
       "      <td>5</td>\n",
       "      <td>10</td>\n",
       "      <td>Digital Wallet</td>\n",
       "      <td>NaN</td>\n",
       "      <td>03/02/23</td>\n",
       "    </tr>\n",
       "    <tr>\n",
       "      <th>7729</th>\n",
       "      <td>TXN_9981953</td>\n",
       "      <td>NaN</td>\n",
       "      <td>3</td>\n",
       "      <td>4</td>\n",
       "      <td>12</td>\n",
       "      <td>NaN</td>\n",
       "      <td>NaN</td>\n",
       "      <td>03/02/23</td>\n",
       "    </tr>\n",
       "  </tbody>\n",
       "</table>\n",
       "<p>333 rows × 8 columns</p>\n",
       "</div>"
      ],
      "text/plain": [
       "     Transaction ID Item Quantity Price Per Unit Total Spent  Payment Method  \\\n",
       "7397    TXN_1054915  NaN        5              1           5             NaN   \n",
       "7398    TXN_1124900  NaN        4              4          16     Credit Card   \n",
       "7399    TXN_1165762  NaN        3              2           6     Credit Card   \n",
       "7400    TXN_1166001  NaN  UNKNOWN              3          15            Cash   \n",
       "7401    TXN_1205610  NaN        2              1           2             NaN   \n",
       "...             ...  ...      ...            ...         ...             ...   \n",
       "7725    TXN_9774251  NaN        2              3           6  Digital Wallet   \n",
       "7726    TXN_9810581  NaN        1              3           3            Cash   \n",
       "7727    TXN_9817602  NaN        2              4           8     Credit Card   \n",
       "7728    TXN_9945729  NaN        2              5          10  Digital Wallet   \n",
       "7729    TXN_9981953  NaN        3              4          12             NaN   \n",
       "\n",
       "      Location Transaction Date  \n",
       "7397  In-store         22/01/23  \n",
       "7398  In-store         08/09/23  \n",
       "7399       NaN         22/10/23  \n",
       "7400     ERROR              NaN  \n",
       "7401  In-store         19/07/23  \n",
       "...        ...              ...  \n",
       "7725  Takeaway         16/06/23  \n",
       "7726       NaN         20/11/23  \n",
       "7727  Takeaway         26/12/23  \n",
       "7728       NaN         03/02/23  \n",
       "7729       NaN         03/02/23  \n",
       "\n",
       "[333 rows x 8 columns]"
      ]
     },
     "execution_count": 7,
     "metadata": {},
     "output_type": "execute_result"
    }
   ],
   "source": [
    "df[df['Item'].isnull()]"
   ]
  },
  {
   "cell_type": "markdown",
   "id": "014ac7c6-c70a-4c70-8f43-3d9d61b7b704",
   "metadata": {},
   "source": [
    "The NaN values in 'Item' still seem to have a corresponding 'Price Per Unit.' This 'Price Per Unit' can be used as a clue to link back to the 'Item Name' using a dictionary called <b>item_price_mapping</b>"
   ]
  },
  {
   "cell_type": "code",
   "execution_count": 8,
   "id": "44a542ff-9d11-4c9a-857c-c09f57601758",
   "metadata": {},
   "outputs": [
    {
     "data": {
      "text/plain": [
       "{2.0: 'Coffee',\n",
       " 1.5: 'Tea',\n",
       " 4.5: 'Sandwich',\n",
       " 5.0: 'Salad',\n",
       " 3.5: 'Cake',\n",
       " 1.0: 'Cookie',\n",
       " 4.0: 'Smoothie',\n",
       " 3.0: 'Juice'}"
      ]
     },
     "execution_count": 8,
     "metadata": {},
     "output_type": "execute_result"
    }
   ],
   "source": [
    "# Reverse the structure mapping of item_price_mapping, into {price: item_name}\n",
    "price_item_mapping = {price: item for item, price in item_price_mapping.items()}\n",
    "price_item_mapping"
   ]
  },
  {
   "cell_type": "code",
   "execution_count": 9,
   "id": "1976ffcd-bcce-4239-a09d-bb66676b9c59",
   "metadata": {},
   "outputs": [
    {
     "data": {
      "text/plain": [
       "Item\n",
       "Juice       1171\n",
       "Coffee      1165\n",
       "Salad       1148\n",
       "Cake        1139\n",
       "Sandwich    1131\n",
       "Smoothie    1096\n",
       "Cookie      1092\n",
       "Tea         1089\n",
       "UNKNOWN      344\n",
       "ERROR        292\n",
       "Name: count, dtype: int64"
      ]
     },
     "execution_count": 9,
     "metadata": {},
     "output_type": "execute_result"
    }
   ],
   "source": [
    "df['Item'].value_counts()"
   ]
  },
  {
   "cell_type": "code",
   "execution_count": 10,
   "id": "f404ee36-c775-45d6-8f62-64c25c8e1354",
   "metadata": {},
   "outputs": [],
   "source": [
    "# Fill the NaN of Item with Mapping price_item_mapping\n",
    "df['Item'] = df['Item'].fillna(df['Price Per Unit'].map(price_item_mapping))"
   ]
  },
  {
   "cell_type": "code",
   "execution_count": 11,
   "id": "9c4d0242-1149-4254-9d29-8cca1b49f282",
   "metadata": {},
   "outputs": [
    {
     "name": "stdout",
     "output_type": "stream",
     "text": [
      "<class 'pandas.core.frame.DataFrame'>\n",
      "RangeIndex: 10000 entries, 0 to 9999\n",
      "Data columns (total 8 columns):\n",
      " #   Column            Non-Null Count  Dtype \n",
      "---  ------            --------------  ----- \n",
      " 0   Transaction ID    10000 non-null  object\n",
      " 1   Item              9667 non-null   object\n",
      " 2   Quantity          9862 non-null   object\n",
      " 3   Price Per Unit    9822 non-null   object\n",
      " 4   Total Spent       9850 non-null   object\n",
      " 5   Payment Method    7421 non-null   object\n",
      " 6   Location          6735 non-null   object\n",
      " 7   Transaction Date  9841 non-null   object\n",
      "dtypes: object(8)\n",
      "memory usage: 625.1+ KB\n"
     ]
    }
   ],
   "source": [
    "df.info()"
   ]
  },
  {
   "cell_type": "markdown",
   "id": "fd72ec8e-fd7f-4561-bc65-ea43af22f87d",
   "metadata": {},
   "source": [
    "Turns out the total non-null count for Item <b>did not change</b>, meaning the .fillna() method did not affect the values. Looking back at the data type of 'Price Per Unit', which is still an object, this might be the root cause. Let's check the Price Per Unit value counts, but before that, let's replace df with df_raw."
   ]
  },
  {
   "cell_type": "code",
   "execution_count": 12,
   "id": "53cbba0d-c0d2-4d02-b928-2d109b1e2102",
   "metadata": {},
   "outputs": [
    {
     "data": {
      "text/plain": [
       "Price Per Unit\n",
       "3          1344\n",
       "4          1249\n",
       "2          1227\n",
       "5          1204\n",
       "1          1143\n",
       "1.5        1133\n",
       "3.5        1085\n",
       "4.5        1083\n",
       "ERROR       190\n",
       "UNKNOWN     164\n",
       "Name: count, dtype: int64"
      ]
     },
     "execution_count": 12,
     "metadata": {},
     "output_type": "execute_result"
    }
   ],
   "source": [
    "df = df_raw.copy()\n",
    "df['Price Per Unit'].value_counts()"
   ]
  },
  {
   "cell_type": "markdown",
   "id": "f370e007-48b0-4a56-98da-dab4ebbea7a5",
   "metadata": {},
   "source": [
    "There are two suspicious values (ERROR and UNKNOWN) among those numeric values. This column should be of type float, as it represents a price. Let's handle those values before converting it to float."
   ]
  },
  {
   "cell_type": "code",
   "execution_count": 13,
   "id": "7b706d4b-c112-499f-a136-a90ee8c8a269",
   "metadata": {},
   "outputs": [
    {
     "data": {
      "text/plain": [
       "Price Per Unit\n",
       "3      1344\n",
       "4      1249\n",
       "2      1227\n",
       "5      1204\n",
       "1      1143\n",
       "1.5    1133\n",
       "3.5    1085\n",
       "4.5    1083\n",
       "Name: count, dtype: int64"
      ]
     },
     "execution_count": 13,
     "metadata": {},
     "output_type": "execute_result"
    }
   ],
   "source": [
    "df['Price Per Unit'] = df['Price Per Unit'].replace(['ERROR', 'UNKNOWN'], np.nan)\n",
    "df['Price Per Unit'].value_counts()"
   ]
  },
  {
   "cell_type": "code",
   "execution_count": 14,
   "id": "9ce7f1d4-2928-4a17-a762-f66c99a1e5f3",
   "metadata": {},
   "outputs": [
    {
     "name": "stdout",
     "output_type": "stream",
     "text": [
      "<class 'pandas.core.frame.DataFrame'>\n",
      "RangeIndex: 10000 entries, 0 to 9999\n",
      "Data columns (total 8 columns):\n",
      " #   Column            Non-Null Count  Dtype  \n",
      "---  ------            --------------  -----  \n",
      " 0   Transaction ID    10000 non-null  object \n",
      " 1   Item              9667 non-null   object \n",
      " 2   Quantity          9862 non-null   object \n",
      " 3   Price Per Unit    9468 non-null   float64\n",
      " 4   Total Spent       9850 non-null   object \n",
      " 5   Payment Method    7421 non-null   object \n",
      " 6   Location          6735 non-null   object \n",
      " 7   Transaction Date  9841 non-null   object \n",
      "dtypes: float64(1), object(7)\n",
      "memory usage: 625.1+ KB\n"
     ]
    }
   ],
   "source": [
    "df['Price Per Unit'] = df['Price Per Unit'].astype(float)\n",
    "df.info()"
   ]
  },
  {
   "cell_type": "markdown",
   "id": "703ad857-3f99-4fbf-8508-de702710d4cd",
   "metadata": {},
   "source": [
    "Based on above information, the Price Per Unit are successfully converted into float64. Now let's get back to handling Missing Value on <b>Item</b>"
   ]
  },
  {
   "cell_type": "code",
   "execution_count": 15,
   "id": "d67b8416-2d97-4bd5-8d0b-fbe3f0c83c04",
   "metadata": {},
   "outputs": [
    {
     "data": {
      "text/html": [
       "<div>\n",
       "<style scoped>\n",
       "    .dataframe tbody tr th:only-of-type {\n",
       "        vertical-align: middle;\n",
       "    }\n",
       "\n",
       "    .dataframe tbody tr th {\n",
       "        vertical-align: top;\n",
       "    }\n",
       "\n",
       "    .dataframe thead th {\n",
       "        text-align: right;\n",
       "    }\n",
       "</style>\n",
       "<table border=\"1\" class=\"dataframe\">\n",
       "  <thead>\n",
       "    <tr style=\"text-align: right;\">\n",
       "      <th></th>\n",
       "      <th>Transaction ID</th>\n",
       "      <th>Item</th>\n",
       "      <th>Quantity</th>\n",
       "      <th>Price Per Unit</th>\n",
       "      <th>Total Spent</th>\n",
       "      <th>Payment Method</th>\n",
       "      <th>Location</th>\n",
       "      <th>Transaction Date</th>\n",
       "    </tr>\n",
       "  </thead>\n",
       "  <tbody>\n",
       "    <tr>\n",
       "      <th>0</th>\n",
       "      <td>TXN_1005331</td>\n",
       "      <td>Coffee</td>\n",
       "      <td>1</td>\n",
       "      <td>2.0</td>\n",
       "      <td>2</td>\n",
       "      <td>Digital Wallet</td>\n",
       "      <td>Takeaway</td>\n",
       "      <td>04/11/23</td>\n",
       "    </tr>\n",
       "    <tr>\n",
       "      <th>1</th>\n",
       "      <td>TXN_1005472</td>\n",
       "      <td>Coffee</td>\n",
       "      <td>4</td>\n",
       "      <td>2.0</td>\n",
       "      <td>8</td>\n",
       "      <td>Credit Card</td>\n",
       "      <td>NaN</td>\n",
       "      <td>21/04/23</td>\n",
       "    </tr>\n",
       "    <tr>\n",
       "      <th>2</th>\n",
       "      <td>TXN_1016246</td>\n",
       "      <td>Coffee</td>\n",
       "      <td>1</td>\n",
       "      <td>2.0</td>\n",
       "      <td>2</td>\n",
       "      <td>ERROR</td>\n",
       "      <td>NaN</td>\n",
       "      <td>19/01/23</td>\n",
       "    </tr>\n",
       "    <tr>\n",
       "      <th>3</th>\n",
       "      <td>TXN_1020478</td>\n",
       "      <td>Coffee</td>\n",
       "      <td>1</td>\n",
       "      <td>2.0</td>\n",
       "      <td>2</td>\n",
       "      <td>Digital Wallet</td>\n",
       "      <td>Takeaway</td>\n",
       "      <td>09/03/23</td>\n",
       "    </tr>\n",
       "    <tr>\n",
       "      <th>4</th>\n",
       "      <td>TXN_1040764</td>\n",
       "      <td>Coffee</td>\n",
       "      <td>3</td>\n",
       "      <td>2.0</td>\n",
       "      <td>6</td>\n",
       "      <td>Cash</td>\n",
       "      <td>Takeaway</td>\n",
       "      <td>27/07/23</td>\n",
       "    </tr>\n",
       "  </tbody>\n",
       "</table>\n",
       "</div>"
      ],
      "text/plain": [
       "  Transaction ID    Item Quantity  Price Per Unit Total Spent  Payment Method  \\\n",
       "0    TXN_1005331  Coffee        1             2.0           2  Digital Wallet   \n",
       "1    TXN_1005472  Coffee        4             2.0           8     Credit Card   \n",
       "2    TXN_1016246  Coffee        1             2.0           2           ERROR   \n",
       "3    TXN_1020478  Coffee        1             2.0           2  Digital Wallet   \n",
       "4    TXN_1040764  Coffee        3             2.0           6            Cash   \n",
       "\n",
       "   Location Transaction Date  \n",
       "0  Takeaway         04/11/23  \n",
       "1       NaN         21/04/23  \n",
       "2       NaN         19/01/23  \n",
       "3  Takeaway         09/03/23  \n",
       "4  Takeaway         27/07/23  "
      ]
     },
     "execution_count": 15,
     "metadata": {},
     "output_type": "execute_result"
    }
   ],
   "source": [
    "# Fill the NaN of Item with Mapping price_item_mapping\n",
    "df['Item'] = df['Item'].fillna(df['Price Per Unit'].map(price_item_mapping))\n",
    "df.head()"
   ]
  },
  {
   "cell_type": "code",
   "execution_count": 16,
   "id": "addd60db-1996-4fa6-9454-942ef1088bd5",
   "metadata": {},
   "outputs": [
    {
     "name": "stdout",
     "output_type": "stream",
     "text": [
      "<class 'pandas.core.frame.DataFrame'>\n",
      "RangeIndex: 10000 entries, 0 to 9999\n",
      "Data columns (total 8 columns):\n",
      " #   Column            Non-Null Count  Dtype  \n",
      "---  ------            --------------  -----  \n",
      " 0   Transaction ID    10000 non-null  object \n",
      " 1   Item              9977 non-null   object \n",
      " 2   Quantity          9862 non-null   object \n",
      " 3   Price Per Unit    9468 non-null   float64\n",
      " 4   Total Spent       9850 non-null   object \n",
      " 5   Payment Method    7421 non-null   object \n",
      " 6   Location          6735 non-null   object \n",
      " 7   Transaction Date  9841 non-null   object \n",
      "dtypes: float64(1), object(7)\n",
      "memory usage: 625.1+ KB\n"
     ]
    }
   ],
   "source": [
    "df.info()"
   ]
  },
  {
   "cell_type": "markdown",
   "id": "577514c0-5531-4487-a0d5-83e9d4335932",
   "metadata": {},
   "source": [
    "The total non-null values in the 'Item' column have increased from 9,667 to 9,977. Let's examine the remaining missing values:"
   ]
  },
  {
   "cell_type": "code",
   "execution_count": 17,
   "id": "c4596176-e8d2-48df-bf86-4c2a0e0bdc13",
   "metadata": {},
   "outputs": [
    {
     "data": {
      "text/plain": [
       "Transaction ID         0\n",
       "Item                  23\n",
       "Quantity             138\n",
       "Price Per Unit       532\n",
       "Total Spent          150\n",
       "Payment Method      2579\n",
       "Location            3265\n",
       "Transaction Date     159\n",
       "dtype: int64"
      ]
     },
     "execution_count": 17,
     "metadata": {},
     "output_type": "execute_result"
    }
   ],
   "source": [
    "df.isnull().sum()"
   ]
  },
  {
   "cell_type": "code",
   "execution_count": 18,
   "id": "b21ee57e-2931-4de7-b69a-539a5260ec4f",
   "metadata": {},
   "outputs": [
    {
     "data": {
      "text/html": [
       "<div>\n",
       "<style scoped>\n",
       "    .dataframe tbody tr th:only-of-type {\n",
       "        vertical-align: middle;\n",
       "    }\n",
       "\n",
       "    .dataframe tbody tr th {\n",
       "        vertical-align: top;\n",
       "    }\n",
       "\n",
       "    .dataframe thead th {\n",
       "        text-align: right;\n",
       "    }\n",
       "</style>\n",
       "<table border=\"1\" class=\"dataframe\">\n",
       "  <thead>\n",
       "    <tr style=\"text-align: right;\">\n",
       "      <th></th>\n",
       "      <th>Transaction ID</th>\n",
       "      <th>Item</th>\n",
       "      <th>Quantity</th>\n",
       "      <th>Price Per Unit</th>\n",
       "      <th>Total Spent</th>\n",
       "      <th>Payment Method</th>\n",
       "      <th>Location</th>\n",
       "      <th>Transaction Date</th>\n",
       "    </tr>\n",
       "  </thead>\n",
       "  <tbody>\n",
       "    <tr>\n",
       "      <th>7402</th>\n",
       "      <td>TXN_1208561</td>\n",
       "      <td>NaN</td>\n",
       "      <td>ERROR</td>\n",
       "      <td>NaN</td>\n",
       "      <td>20</td>\n",
       "      <td>Credit Card</td>\n",
       "      <td>NaN</td>\n",
       "      <td>19/08/23</td>\n",
       "    </tr>\n",
       "    <tr>\n",
       "      <th>7448</th>\n",
       "      <td>TXN_2523298</td>\n",
       "      <td>NaN</td>\n",
       "      <td>4</td>\n",
       "      <td>NaN</td>\n",
       "      <td>6</td>\n",
       "      <td>ERROR</td>\n",
       "      <td>In-store</td>\n",
       "      <td>25/03/23</td>\n",
       "    </tr>\n",
       "    <tr>\n",
       "      <th>7449</th>\n",
       "      <td>TXN_2536573</td>\n",
       "      <td>NaN</td>\n",
       "      <td>2</td>\n",
       "      <td>NaN</td>\n",
       "      <td>8</td>\n",
       "      <td>Cash</td>\n",
       "      <td>In-store</td>\n",
       "      <td>24/06/23</td>\n",
       "    </tr>\n",
       "    <tr>\n",
       "      <th>7473</th>\n",
       "      <td>TXN_3334632</td>\n",
       "      <td>NaN</td>\n",
       "      <td>1</td>\n",
       "      <td>NaN</td>\n",
       "      <td>2</td>\n",
       "      <td>Credit Card</td>\n",
       "      <td>Takeaway</td>\n",
       "      <td>20/11/23</td>\n",
       "    </tr>\n",
       "    <tr>\n",
       "      <th>7480</th>\n",
       "      <td>TXN_3495950</td>\n",
       "      <td>NaN</td>\n",
       "      <td>4</td>\n",
       "      <td>NaN</td>\n",
       "      <td>6</td>\n",
       "      <td>Credit Card</td>\n",
       "      <td>In-store</td>\n",
       "      <td>19/02/23</td>\n",
       "    </tr>\n",
       "    <tr>\n",
       "      <th>7486</th>\n",
       "      <td>TXN_3611851</td>\n",
       "      <td>NaN</td>\n",
       "      <td>4</td>\n",
       "      <td>NaN</td>\n",
       "      <td>ERROR</td>\n",
       "      <td>Credit Card</td>\n",
       "      <td>NaN</td>\n",
       "      <td>09/02/23</td>\n",
       "    </tr>\n",
       "    <tr>\n",
       "      <th>7500</th>\n",
       "      <td>TXN_3803063</td>\n",
       "      <td>NaN</td>\n",
       "      <td>4</td>\n",
       "      <td>NaN</td>\n",
       "      <td>12</td>\n",
       "      <td>Credit Card</td>\n",
       "      <td>Takeaway</td>\n",
       "      <td>23/11/23</td>\n",
       "    </tr>\n",
       "    <tr>\n",
       "      <th>7509</th>\n",
       "      <td>TXN_4031509</td>\n",
       "      <td>NaN</td>\n",
       "      <td>4</td>\n",
       "      <td>NaN</td>\n",
       "      <td>16</td>\n",
       "      <td>Credit Card</td>\n",
       "      <td>Takeaway</td>\n",
       "      <td>04/01/23</td>\n",
       "    </tr>\n",
       "    <tr>\n",
       "      <th>7514</th>\n",
       "      <td>TXN_4208919</td>\n",
       "      <td>NaN</td>\n",
       "      <td>3</td>\n",
       "      <td>NaN</td>\n",
       "      <td>12</td>\n",
       "      <td>NaN</td>\n",
       "      <td>Takeaway</td>\n",
       "      <td>30/05/23</td>\n",
       "    </tr>\n",
       "    <tr>\n",
       "      <th>7543</th>\n",
       "      <td>TXN_4844386</td>\n",
       "      <td>NaN</td>\n",
       "      <td>5</td>\n",
       "      <td>NaN</td>\n",
       "      <td>15</td>\n",
       "      <td>Credit Card</td>\n",
       "      <td>In-store</td>\n",
       "      <td>28/10/23</td>\n",
       "    </tr>\n",
       "    <tr>\n",
       "      <th>7551</th>\n",
       "      <td>TXN_5093855</td>\n",
       "      <td>NaN</td>\n",
       "      <td>4</td>\n",
       "      <td>NaN</td>\n",
       "      <td>6</td>\n",
       "      <td>Cash</td>\n",
       "      <td>Takeaway</td>\n",
       "      <td>23/11/23</td>\n",
       "    </tr>\n",
       "    <tr>\n",
       "      <th>7555</th>\n",
       "      <td>TXN_5206049</td>\n",
       "      <td>NaN</td>\n",
       "      <td>3</td>\n",
       "      <td>NaN</td>\n",
       "      <td>3</td>\n",
       "      <td>Digital Wallet</td>\n",
       "      <td>NaN</td>\n",
       "      <td>24/06/23</td>\n",
       "    </tr>\n",
       "    <tr>\n",
       "      <th>7556</th>\n",
       "      <td>TXN_5245399</td>\n",
       "      <td>NaN</td>\n",
       "      <td>5</td>\n",
       "      <td>NaN</td>\n",
       "      <td>10</td>\n",
       "      <td>NaN</td>\n",
       "      <td>NaN</td>\n",
       "      <td>25/12/23</td>\n",
       "    </tr>\n",
       "    <tr>\n",
       "      <th>7579</th>\n",
       "      <td>TXN_5935353</td>\n",
       "      <td>NaN</td>\n",
       "      <td>2</td>\n",
       "      <td>NaN</td>\n",
       "      <td>8</td>\n",
       "      <td>Credit Card</td>\n",
       "      <td>ERROR</td>\n",
       "      <td>01/05/23</td>\n",
       "    </tr>\n",
       "    <tr>\n",
       "      <th>7640</th>\n",
       "      <td>TXN_7595907</td>\n",
       "      <td>NaN</td>\n",
       "      <td>5</td>\n",
       "      <td>NaN</td>\n",
       "      <td>15</td>\n",
       "      <td>NaN</td>\n",
       "      <td>In-store</td>\n",
       "      <td>24/04/23</td>\n",
       "    </tr>\n",
       "    <tr>\n",
       "      <th>7646</th>\n",
       "      <td>TXN_7797231</td>\n",
       "      <td>NaN</td>\n",
       "      <td>5</td>\n",
       "      <td>NaN</td>\n",
       "      <td>10</td>\n",
       "      <td>Digital Wallet</td>\n",
       "      <td>NaN</td>\n",
       "      <td>05/05/23</td>\n",
       "    </tr>\n",
       "    <tr>\n",
       "      <th>7650</th>\n",
       "      <td>TXN_7928378</td>\n",
       "      <td>NaN</td>\n",
       "      <td>3</td>\n",
       "      <td>NaN</td>\n",
       "      <td>12</td>\n",
       "      <td>Cash</td>\n",
       "      <td>NaN</td>\n",
       "      <td>04/07/23</td>\n",
       "    </tr>\n",
       "    <tr>\n",
       "      <th>7651</th>\n",
       "      <td>TXN_7940202</td>\n",
       "      <td>NaN</td>\n",
       "      <td>1</td>\n",
       "      <td>NaN</td>\n",
       "      <td>4</td>\n",
       "      <td>Digital Wallet</td>\n",
       "      <td>NaN</td>\n",
       "      <td>23/07/23</td>\n",
       "    </tr>\n",
       "    <tr>\n",
       "      <th>7663</th>\n",
       "      <td>TXN_8266689</td>\n",
       "      <td>NaN</td>\n",
       "      <td>5</td>\n",
       "      <td>NaN</td>\n",
       "      <td>15</td>\n",
       "      <td>Cash</td>\n",
       "      <td>In-store</td>\n",
       "      <td>03/12/23</td>\n",
       "    </tr>\n",
       "    <tr>\n",
       "      <th>7669</th>\n",
       "      <td>TXN_8365530</td>\n",
       "      <td>NaN</td>\n",
       "      <td>4</td>\n",
       "      <td>NaN</td>\n",
       "      <td>16</td>\n",
       "      <td>NaN</td>\n",
       "      <td>Takeaway</td>\n",
       "      <td>10/03/23</td>\n",
       "    </tr>\n",
       "    <tr>\n",
       "      <th>7686</th>\n",
       "      <td>TXN_8751702</td>\n",
       "      <td>NaN</td>\n",
       "      <td>5</td>\n",
       "      <td>NaN</td>\n",
       "      <td>15</td>\n",
       "      <td>Cash</td>\n",
       "      <td>NaN</td>\n",
       "      <td>13/02/23</td>\n",
       "    </tr>\n",
       "    <tr>\n",
       "      <th>7717</th>\n",
       "      <td>TXN_9618962</td>\n",
       "      <td>NaN</td>\n",
       "      <td>3</td>\n",
       "      <td>NaN</td>\n",
       "      <td>6</td>\n",
       "      <td>Credit Card</td>\n",
       "      <td>Takeaway</td>\n",
       "      <td>08/11/23</td>\n",
       "    </tr>\n",
       "    <tr>\n",
       "      <th>7721</th>\n",
       "      <td>TXN_9659401</td>\n",
       "      <td>NaN</td>\n",
       "      <td>3</td>\n",
       "      <td>NaN</td>\n",
       "      <td>3</td>\n",
       "      <td>Digital Wallet</td>\n",
       "      <td>NaN</td>\n",
       "      <td>02/06/23</td>\n",
       "    </tr>\n",
       "  </tbody>\n",
       "</table>\n",
       "</div>"
      ],
      "text/plain": [
       "     Transaction ID Item Quantity  Price Per Unit Total Spent  Payment Method  \\\n",
       "7402    TXN_1208561  NaN    ERROR             NaN          20     Credit Card   \n",
       "7448    TXN_2523298  NaN        4             NaN           6           ERROR   \n",
       "7449    TXN_2536573  NaN        2             NaN           8            Cash   \n",
       "7473    TXN_3334632  NaN        1             NaN           2     Credit Card   \n",
       "7480    TXN_3495950  NaN        4             NaN           6     Credit Card   \n",
       "7486    TXN_3611851  NaN        4             NaN       ERROR     Credit Card   \n",
       "7500    TXN_3803063  NaN        4             NaN          12     Credit Card   \n",
       "7509    TXN_4031509  NaN        4             NaN          16     Credit Card   \n",
       "7514    TXN_4208919  NaN        3             NaN          12             NaN   \n",
       "7543    TXN_4844386  NaN        5             NaN          15     Credit Card   \n",
       "7551    TXN_5093855  NaN        4             NaN           6            Cash   \n",
       "7555    TXN_5206049  NaN        3             NaN           3  Digital Wallet   \n",
       "7556    TXN_5245399  NaN        5             NaN          10             NaN   \n",
       "7579    TXN_5935353  NaN        2             NaN           8     Credit Card   \n",
       "7640    TXN_7595907  NaN        5             NaN          15             NaN   \n",
       "7646    TXN_7797231  NaN        5             NaN          10  Digital Wallet   \n",
       "7650    TXN_7928378  NaN        3             NaN          12            Cash   \n",
       "7651    TXN_7940202  NaN        1             NaN           4  Digital Wallet   \n",
       "7663    TXN_8266689  NaN        5             NaN          15            Cash   \n",
       "7669    TXN_8365530  NaN        4             NaN          16             NaN   \n",
       "7686    TXN_8751702  NaN        5             NaN          15            Cash   \n",
       "7717    TXN_9618962  NaN        3             NaN           6     Credit Card   \n",
       "7721    TXN_9659401  NaN        3             NaN           3  Digital Wallet   \n",
       "\n",
       "      Location Transaction Date  \n",
       "7402       NaN         19/08/23  \n",
       "7448  In-store         25/03/23  \n",
       "7449  In-store         24/06/23  \n",
       "7473  Takeaway         20/11/23  \n",
       "7480  In-store         19/02/23  \n",
       "7486       NaN         09/02/23  \n",
       "7500  Takeaway         23/11/23  \n",
       "7509  Takeaway         04/01/23  \n",
       "7514  Takeaway         30/05/23  \n",
       "7543  In-store         28/10/23  \n",
       "7551  Takeaway         23/11/23  \n",
       "7555       NaN         24/06/23  \n",
       "7556       NaN         25/12/23  \n",
       "7579     ERROR         01/05/23  \n",
       "7640  In-store         24/04/23  \n",
       "7646       NaN         05/05/23  \n",
       "7650       NaN         04/07/23  \n",
       "7651       NaN         23/07/23  \n",
       "7663  In-store         03/12/23  \n",
       "7669  Takeaway         10/03/23  \n",
       "7686       NaN         13/02/23  \n",
       "7717  Takeaway         08/11/23  \n",
       "7721       NaN         02/06/23  "
      ]
     },
     "execution_count": 18,
     "metadata": {},
     "output_type": "execute_result"
    }
   ],
   "source": [
    "df[df['Item'].isnull()]"
   ]
  },
  {
   "cell_type": "markdown",
   "id": "117c8f1e-1dfd-4130-b230-bbfbd77ef0d5",
   "metadata": {},
   "source": [
    "The remaining missing values in the 'Item' column occurred because of <b>NaN values in 'Price Per Unit,'</b> which makes sense."
   ]
  },
  {
   "cell_type": "markdown",
   "id": "f0634c95-1565-46bb-88ec-c6de43bd67c8",
   "metadata": {},
   "source": [
    "We might to have a different approach on finding the Item Name by the <b>Total Spent and Quantity</b> then get the price per unit to finally able to linked back to Item Name. Let's check value for those column Total Spent and Quantity"
   ]
  },
  {
   "cell_type": "code",
   "execution_count": 19,
   "id": "c6f05f0d-0da2-40fb-a915-bebf7aab8927",
   "metadata": {},
   "outputs": [
    {
     "data": {
      "text/plain": [
       "Quantity\n",
       "5          2013\n",
       "2          1974\n",
       "4          1863\n",
       "3          1849\n",
       "1          1822\n",
       "UNKNOWN     171\n",
       "ERROR       170\n",
       "Name: count, dtype: int64"
      ]
     },
     "execution_count": 19,
     "metadata": {},
     "output_type": "execute_result"
    }
   ],
   "source": [
    "df['Quantity'].value_counts()"
   ]
  },
  {
   "cell_type": "code",
   "execution_count": 20,
   "id": "588ffbfa-9d9e-493c-bf67-4c02d0ee4388",
   "metadata": {},
   "outputs": [
    {
     "data": {
      "text/plain": [
       "Total Spent\n",
       "6          752\n",
       "3          719\n",
       "4          713\n",
       "10         524\n",
       "20         507\n",
       "12         505\n",
       "9          498\n",
       "2          497\n",
       "15         490\n",
       "8          475\n",
       "5          468\n",
       "4.5        446\n",
       "25         259\n",
       "16         256\n",
       "22.5       253\n",
       "17.5       244\n",
       "7.5        237\n",
       "1          232\n",
       "13.5       232\n",
       "7          227\n",
       "3.5        211\n",
       "14         207\n",
       "1.5        205\n",
       "18         200\n",
       "10.5       198\n",
       "UNKNOWN    146\n",
       "ERROR      146\n",
       "0            3\n",
       "Name: count, dtype: int64"
      ]
     },
     "execution_count": 20,
     "metadata": {},
     "output_type": "execute_result"
    }
   ],
   "source": [
    "df['Total Spent'].value_counts()"
   ]
  },
  {
   "cell_type": "markdown",
   "id": "61fa20da-b952-4e5c-8c9b-b37efe4dd742",
   "metadata": {},
   "source": [
    "On those columns each have two suspicious values called (UNKNOWN, ERROR) that need to be replaced with NaN"
   ]
  },
  {
   "cell_type": "code",
   "execution_count": 21,
   "id": "85f1be69-f75a-4836-8680-bcda0f4986c7",
   "metadata": {},
   "outputs": [],
   "source": [
    "df['Quantity'] = df['Quantity'].replace(['ERROR', 'UNKNOWN'], np.nan)\n",
    "df['Quantity'] = df['Quantity'].astype(float)\n",
    "df['Total Spent'] = df['Total Spent'].replace(['ERROR', 'UNKNOWN'], np.nan)\n",
    "df['Total Spent'] = df['Total Spent'].astype(float)"
   ]
  },
  {
   "cell_type": "code",
   "execution_count": 22,
   "id": "f3362649-bf0f-40a8-b269-175ba37d8ac6",
   "metadata": {},
   "outputs": [
    {
     "data": {
      "text/plain": [
       "Quantity\n",
       "5.0    2013\n",
       "2.0    1974\n",
       "4.0    1863\n",
       "3.0    1849\n",
       "1.0    1822\n",
       "Name: count, dtype: int64"
      ]
     },
     "execution_count": 22,
     "metadata": {},
     "output_type": "execute_result"
    }
   ],
   "source": [
    "df['Quantity'].value_counts()"
   ]
  },
  {
   "cell_type": "code",
   "execution_count": 23,
   "id": "5d3dd482-c0b3-4fc0-8013-d2711e81719f",
   "metadata": {},
   "outputs": [
    {
     "data": {
      "text/plain": [
       "Total Spent\n",
       "6.0     752\n",
       "3.0     719\n",
       "4.0     713\n",
       "10.0    524\n",
       "20.0    507\n",
       "12.0    505\n",
       "9.0     498\n",
       "2.0     497\n",
       "15.0    490\n",
       "8.0     475\n",
       "5.0     468\n",
       "4.5     446\n",
       "25.0    259\n",
       "16.0    256\n",
       "22.5    253\n",
       "17.5    244\n",
       "7.5     237\n",
       "13.5    232\n",
       "1.0     232\n",
       "7.0     227\n",
       "3.5     211\n",
       "14.0    207\n",
       "1.5     205\n",
       "18.0    200\n",
       "10.5    198\n",
       "0.0       3\n",
       "Name: count, dtype: int64"
      ]
     },
     "execution_count": 23,
     "metadata": {},
     "output_type": "execute_result"
    }
   ],
   "source": [
    "df['Total Spent'].value_counts()"
   ]
  },
  {
   "cell_type": "markdown",
   "id": "d9e0d249-8914-492e-b2c9-69d5d434f1c9",
   "metadata": {},
   "source": [
    "After ensuring there are no more invalid values in the 'Total Spent' and 'Quantity' columns and successfully converting them to float, the 'Price Per Unit' values can now be replaced using Total Spent / Quantity."
   ]
  },
  {
   "cell_type": "code",
   "execution_count": 24,
   "id": "baa765d7-691a-4f1d-b727-1aad37476547",
   "metadata": {},
   "outputs": [],
   "source": [
    "df['Price Per Unit'] = df['Price Per Unit'].fillna(df['Total Spent']/df['Quantity'])"
   ]
  },
  {
   "cell_type": "code",
   "execution_count": 25,
   "id": "19dbf910-f131-407b-926c-5e3b62a7901c",
   "metadata": {},
   "outputs": [
    {
     "name": "stdout",
     "output_type": "stream",
     "text": [
      "<class 'pandas.core.frame.DataFrame'>\n",
      "RangeIndex: 10000 entries, 0 to 9999\n",
      "Data columns (total 8 columns):\n",
      " #   Column            Non-Null Count  Dtype  \n",
      "---  ------            --------------  -----  \n",
      " 0   Transaction ID    10000 non-null  object \n",
      " 1   Item              9977 non-null   object \n",
      " 2   Quantity          9521 non-null   float64\n",
      " 3   Price Per Unit    9965 non-null   float64\n",
      " 4   Total Spent       9558 non-null   float64\n",
      " 5   Payment Method    7421 non-null   object \n",
      " 6   Location          6735 non-null   object \n",
      " 7   Transaction Date  9841 non-null   object \n",
      "dtypes: float64(3), object(5)\n",
      "memory usage: 625.1+ KB\n"
     ]
    }
   ],
   "source": [
    "df.info()"
   ]
  },
  {
   "cell_type": "markdown",
   "id": "ca0f9d85-0119-48f1-a74b-10fa324bb1cc",
   "metadata": {},
   "source": [
    "The total non-null values in 'Price Per Unit' have increased compared to last time, which is a good signal to conduct re-mapping for 'Item'."
   ]
  },
  {
   "cell_type": "code",
   "execution_count": 26,
   "id": "a6737d36-d4bf-4674-beba-3f08a3522e04",
   "metadata": {},
   "outputs": [],
   "source": [
    "df['Item'] = df['Item'].fillna(df['Price Per Unit'].map(price_item_mapping))"
   ]
  },
  {
   "cell_type": "code",
   "execution_count": 27,
   "id": "f5968da0-fbcf-497f-aac4-b2de5a6435ad",
   "metadata": {},
   "outputs": [
    {
     "name": "stdout",
     "output_type": "stream",
     "text": [
      "<class 'pandas.core.frame.DataFrame'>\n",
      "RangeIndex: 10000 entries, 0 to 9999\n",
      "Data columns (total 8 columns):\n",
      " #   Column            Non-Null Count  Dtype  \n",
      "---  ------            --------------  -----  \n",
      " 0   Transaction ID    10000 non-null  object \n",
      " 1   Item              9998 non-null   object \n",
      " 2   Quantity          9521 non-null   float64\n",
      " 3   Price Per Unit    9965 non-null   float64\n",
      " 4   Total Spent       9558 non-null   float64\n",
      " 5   Payment Method    7421 non-null   object \n",
      " 6   Location          6735 non-null   object \n",
      " 7   Transaction Date  9841 non-null   object \n",
      "dtypes: float64(3), object(5)\n",
      "memory usage: 625.1+ KB\n"
     ]
    }
   ],
   "source": [
    "df.info()"
   ]
  },
  {
   "cell_type": "code",
   "execution_count": 28,
   "id": "2a150804-6c83-418c-a83e-06cc9b76d3d2",
   "metadata": {},
   "outputs": [
    {
     "data": {
      "text/html": [
       "<div>\n",
       "<style scoped>\n",
       "    .dataframe tbody tr th:only-of-type {\n",
       "        vertical-align: middle;\n",
       "    }\n",
       "\n",
       "    .dataframe tbody tr th {\n",
       "        vertical-align: top;\n",
       "    }\n",
       "\n",
       "    .dataframe thead th {\n",
       "        text-align: right;\n",
       "    }\n",
       "</style>\n",
       "<table border=\"1\" class=\"dataframe\">\n",
       "  <thead>\n",
       "    <tr style=\"text-align: right;\">\n",
       "      <th></th>\n",
       "      <th>Transaction ID</th>\n",
       "      <th>Item</th>\n",
       "      <th>Quantity</th>\n",
       "      <th>Price Per Unit</th>\n",
       "      <th>Total Spent</th>\n",
       "      <th>Payment Method</th>\n",
       "      <th>Location</th>\n",
       "      <th>Transaction Date</th>\n",
       "    </tr>\n",
       "  </thead>\n",
       "  <tbody>\n",
       "    <tr>\n",
       "      <th>7402</th>\n",
       "      <td>TXN_1208561</td>\n",
       "      <td>NaN</td>\n",
       "      <td>NaN</td>\n",
       "      <td>NaN</td>\n",
       "      <td>20.0</td>\n",
       "      <td>Credit Card</td>\n",
       "      <td>NaN</td>\n",
       "      <td>19/08/23</td>\n",
       "    </tr>\n",
       "    <tr>\n",
       "      <th>7486</th>\n",
       "      <td>TXN_3611851</td>\n",
       "      <td>NaN</td>\n",
       "      <td>4.0</td>\n",
       "      <td>NaN</td>\n",
       "      <td>NaN</td>\n",
       "      <td>Credit Card</td>\n",
       "      <td>NaN</td>\n",
       "      <td>09/02/23</td>\n",
       "    </tr>\n",
       "  </tbody>\n",
       "</table>\n",
       "</div>"
      ],
      "text/plain": [
       "     Transaction ID Item  Quantity  Price Per Unit  Total Spent  \\\n",
       "7402    TXN_1208561  NaN       NaN             NaN         20.0   \n",
       "7486    TXN_3611851  NaN       4.0             NaN          NaN   \n",
       "\n",
       "     Payment Method Location Transaction Date  \n",
       "7402    Credit Card      NaN         19/08/23  \n",
       "7486    Credit Card      NaN         09/02/23  "
      ]
     },
     "execution_count": 28,
     "metadata": {},
     "output_type": "execute_result"
    }
   ],
   "source": [
    "df[df['Item'].isnull()]"
   ]
  },
  {
   "cell_type": "markdown",
   "id": "d0e189f9-f7c9-4456-a253-7d48d89f324f",
   "metadata": {},
   "source": [
    "The data still has some missing 'Item' values. Since there are no more clues, it is better to categorize them as 'Others'."
   ]
  },
  {
   "cell_type": "code",
   "execution_count": 29,
   "id": "d40ee580-8860-466b-abb3-ee12f85ec2be",
   "metadata": {},
   "outputs": [],
   "source": [
    "df['Item'] = df['Item'].fillna('Others')"
   ]
  },
  {
   "cell_type": "markdown",
   "id": "2280c5c9-ee9b-4350-97b7-f77e582a9710",
   "metadata": {},
   "source": [
    "**1.2 Handling Inappropriate Values**"
   ]
  },
  {
   "cell_type": "code",
   "execution_count": 30,
   "id": "16bb2258-7e9f-4f0b-b79e-d697e4560ab3",
   "metadata": {},
   "outputs": [
    {
     "data": {
      "text/plain": [
       "Item\n",
       "Juice       1256\n",
       "Coffee      1208\n",
       "Salad       1186\n",
       "Smoothie    1185\n",
       "Cake        1139\n",
       "Cookie      1132\n",
       "Sandwich    1131\n",
       "Tea         1125\n",
       "UNKNOWN      344\n",
       "ERROR        292\n",
       "Others         2\n",
       "Name: count, dtype: int64"
      ]
     },
     "execution_count": 30,
     "metadata": {},
     "output_type": "execute_result"
    }
   ],
   "source": [
    "df['Item'].value_counts()"
   ]
  },
  {
   "cell_type": "markdown",
   "id": "01ad89e2-2d7d-4dbc-a6e5-78e02bf66e06",
   "metadata": {},
   "source": [
    "Apparently there are two suspicious Item Name which are UNKNOWN and ERROR. Let's try to handle it by utilizing price_item_mapping dictioanry"
   ]
  },
  {
   "cell_type": "code",
   "execution_count": 31,
   "id": "dc79d467-b479-4992-af8d-25fcabf184b1",
   "metadata": {},
   "outputs": [
    {
     "data": {
      "text/html": [
       "<div>\n",
       "<style scoped>\n",
       "    .dataframe tbody tr th:only-of-type {\n",
       "        vertical-align: middle;\n",
       "    }\n",
       "\n",
       "    .dataframe tbody tr th {\n",
       "        vertical-align: top;\n",
       "    }\n",
       "\n",
       "    .dataframe thead th {\n",
       "        text-align: right;\n",
       "    }\n",
       "</style>\n",
       "<table border=\"1\" class=\"dataframe\">\n",
       "  <thead>\n",
       "    <tr style=\"text-align: right;\">\n",
       "      <th></th>\n",
       "      <th>Transaction ID</th>\n",
       "      <th>Item</th>\n",
       "      <th>Quantity</th>\n",
       "      <th>Price Per Unit</th>\n",
       "      <th>Total Spent</th>\n",
       "      <th>Payment Method</th>\n",
       "      <th>Location</th>\n",
       "      <th>Transaction Date</th>\n",
       "    </tr>\n",
       "  </thead>\n",
       "  <tbody>\n",
       "    <tr>\n",
       "      <th>2257</th>\n",
       "      <td>TXN_1082717</td>\n",
       "      <td>ERROR</td>\n",
       "      <td>NaN</td>\n",
       "      <td>NaN</td>\n",
       "      <td>9.0</td>\n",
       "      <td>Digital Wallet</td>\n",
       "      <td>In-store</td>\n",
       "      <td>13/12/23</td>\n",
       "    </tr>\n",
       "    <tr>\n",
       "      <th>2258</th>\n",
       "      <td>TXN_1118799</td>\n",
       "      <td>ERROR</td>\n",
       "      <td>4.0</td>\n",
       "      <td>4.0</td>\n",
       "      <td>NaN</td>\n",
       "      <td>Credit Card</td>\n",
       "      <td>Takeaway</td>\n",
       "      <td>19/09/23</td>\n",
       "    </tr>\n",
       "    <tr>\n",
       "      <th>2259</th>\n",
       "      <td>TXN_1124796</td>\n",
       "      <td>ERROR</td>\n",
       "      <td>5.0</td>\n",
       "      <td>1.5</td>\n",
       "      <td>7.5</td>\n",
       "      <td>Credit Card</td>\n",
       "      <td>NaN</td>\n",
       "      <td>28/10/23</td>\n",
       "    </tr>\n",
       "    <tr>\n",
       "      <th>2260</th>\n",
       "      <td>TXN_1135761</td>\n",
       "      <td>ERROR</td>\n",
       "      <td>3.0</td>\n",
       "      <td>3.0</td>\n",
       "      <td>9.0</td>\n",
       "      <td>Digital Wallet</td>\n",
       "      <td>NaN</td>\n",
       "      <td>30/01/23</td>\n",
       "    </tr>\n",
       "    <tr>\n",
       "      <th>2261</th>\n",
       "      <td>TXN_1185003</td>\n",
       "      <td>ERROR</td>\n",
       "      <td>5.0</td>\n",
       "      <td>3.0</td>\n",
       "      <td>15.0</td>\n",
       "      <td>Cash</td>\n",
       "      <td>Takeaway</td>\n",
       "      <td>06/01/23</td>\n",
       "    </tr>\n",
       "    <tr>\n",
       "      <th>...</th>\n",
       "      <td>...</td>\n",
       "      <td>...</td>\n",
       "      <td>...</td>\n",
       "      <td>...</td>\n",
       "      <td>...</td>\n",
       "      <td>...</td>\n",
       "      <td>...</td>\n",
       "      <td>...</td>\n",
       "    </tr>\n",
       "    <tr>\n",
       "      <th>7392</th>\n",
       "      <td>TXN_9894204</td>\n",
       "      <td>UNKNOWN</td>\n",
       "      <td>2.0</td>\n",
       "      <td>2.0</td>\n",
       "      <td>4.0</td>\n",
       "      <td>Cash</td>\n",
       "      <td>Takeaway</td>\n",
       "      <td>08/08/23</td>\n",
       "    </tr>\n",
       "    <tr>\n",
       "      <th>7393</th>\n",
       "      <td>TXN_9904042</td>\n",
       "      <td>UNKNOWN</td>\n",
       "      <td>4.0</td>\n",
       "      <td>4.0</td>\n",
       "      <td>16.0</td>\n",
       "      <td>Credit Card</td>\n",
       "      <td>NaN</td>\n",
       "      <td>09/06/23</td>\n",
       "    </tr>\n",
       "    <tr>\n",
       "      <th>7394</th>\n",
       "      <td>TXN_9914084</td>\n",
       "      <td>UNKNOWN</td>\n",
       "      <td>1.0</td>\n",
       "      <td>2.0</td>\n",
       "      <td>2.0</td>\n",
       "      <td>ERROR</td>\n",
       "      <td>Takeaway</td>\n",
       "      <td>16/06/23</td>\n",
       "    </tr>\n",
       "    <tr>\n",
       "      <th>7395</th>\n",
       "      <td>TXN_9950775</td>\n",
       "      <td>UNKNOWN</td>\n",
       "      <td>4.0</td>\n",
       "      <td>5.0</td>\n",
       "      <td>20.0</td>\n",
       "      <td>Credit Card</td>\n",
       "      <td>Takeaway</td>\n",
       "      <td>20/02/23</td>\n",
       "    </tr>\n",
       "    <tr>\n",
       "      <th>7396</th>\n",
       "      <td>TXN_9970653</td>\n",
       "      <td>UNKNOWN</td>\n",
       "      <td>5.0</td>\n",
       "      <td>4.0</td>\n",
       "      <td>20.0</td>\n",
       "      <td>Digital Wallet</td>\n",
       "      <td>Takeaway</td>\n",
       "      <td>30/12/23</td>\n",
       "    </tr>\n",
       "  </tbody>\n",
       "</table>\n",
       "<p>636 rows × 8 columns</p>\n",
       "</div>"
      ],
      "text/plain": [
       "     Transaction ID     Item  Quantity  Price Per Unit  Total Spent  \\\n",
       "2257    TXN_1082717    ERROR       NaN             NaN          9.0   \n",
       "2258    TXN_1118799    ERROR       4.0             4.0          NaN   \n",
       "2259    TXN_1124796    ERROR       5.0             1.5          7.5   \n",
       "2260    TXN_1135761    ERROR       3.0             3.0          9.0   \n",
       "2261    TXN_1185003    ERROR       5.0             3.0         15.0   \n",
       "...             ...      ...       ...             ...          ...   \n",
       "7392    TXN_9894204  UNKNOWN       2.0             2.0          4.0   \n",
       "7393    TXN_9904042  UNKNOWN       4.0             4.0         16.0   \n",
       "7394    TXN_9914084  UNKNOWN       1.0             2.0          2.0   \n",
       "7395    TXN_9950775  UNKNOWN       4.0             5.0         20.0   \n",
       "7396    TXN_9970653  UNKNOWN       5.0             4.0         20.0   \n",
       "\n",
       "      Payment Method  Location Transaction Date  \n",
       "2257  Digital Wallet  In-store         13/12/23  \n",
       "2258     Credit Card  Takeaway         19/09/23  \n",
       "2259     Credit Card       NaN         28/10/23  \n",
       "2260  Digital Wallet       NaN         30/01/23  \n",
       "2261            Cash  Takeaway         06/01/23  \n",
       "...              ...       ...              ...  \n",
       "7392            Cash  Takeaway         08/08/23  \n",
       "7393     Credit Card       NaN         09/06/23  \n",
       "7394           ERROR  Takeaway         16/06/23  \n",
       "7395     Credit Card  Takeaway         20/02/23  \n",
       "7396  Digital Wallet  Takeaway         30/12/23  \n",
       "\n",
       "[636 rows x 8 columns]"
      ]
     },
     "execution_count": 31,
     "metadata": {},
     "output_type": "execute_result"
    }
   ],
   "source": [
    "df[np.logical_or(df['Item'] == 'UNKNOWN', df['Item'] == 'ERROR')]"
   ]
  },
  {
   "cell_type": "code",
   "execution_count": 32,
   "id": "fb1d82d9-1d2a-417f-9ccc-f10fa9aee9e8",
   "metadata": {},
   "outputs": [
    {
     "data": {
      "text/plain": [
       "Item\n",
       "Juice       1418\n",
       "Smoothie    1323\n",
       "Coffee      1291\n",
       "Salad       1272\n",
       "Cookie      1213\n",
       "Tea         1207\n",
       "Cake        1139\n",
       "Sandwich    1131\n",
       "ERROR          2\n",
       "UNKNOWN        2\n",
       "Others         2\n",
       "Name: count, dtype: int64"
      ]
     },
     "execution_count": 32,
     "metadata": {},
     "output_type": "execute_result"
    }
   ],
   "source": [
    "df['Item'] = df.apply(lambda row: price_item_mapping.get(row['Price Per Unit'], row['Item'])\n",
    "                      if row['Item'] in ['UNKNOWN', 'ERROR'] else row['Item'], axis=1)\n",
    "df['Item'].value_counts()"
   ]
  },
  {
   "cell_type": "markdown",
   "id": "560a193e-da01-445e-8251-87d9c5f04901",
   "metadata": {},
   "source": [
    "Apparently, the dataframe still has four rows with ['ERROR', 'UNKNOWN'] values in 'Item'. Let’s categorize them as 'Others' as well."
   ]
  },
  {
   "cell_type": "code",
   "execution_count": 33,
   "id": "a6580645-5878-4744-9829-7ff03f945b6b",
   "metadata": {},
   "outputs": [
    {
     "data": {
      "text/plain": [
       "Item\n",
       "Juice       1418\n",
       "Smoothie    1323\n",
       "Coffee      1291\n",
       "Salad       1272\n",
       "Cookie      1213\n",
       "Tea         1207\n",
       "Cake        1139\n",
       "Sandwich    1131\n",
       "Others         6\n",
       "Name: count, dtype: int64"
      ]
     },
     "execution_count": 33,
     "metadata": {},
     "output_type": "execute_result"
    }
   ],
   "source": [
    "df['Item'] = df['Item'].replace(['ERROR', 'UNKNOWN'],'Others')\n",
    "df['Item'].value_counts()"
   ]
  },
  {
   "cell_type": "markdown",
   "id": "35178300-0a11-426e-a295-5f706182d4bb",
   "metadata": {},
   "source": [
    "### 2. Transaction Date ### "
   ]
  },
  {
   "cell_type": "markdown",
   "id": "e3383990-e83e-4884-974f-bcf96ccf7b2c",
   "metadata": {},
   "source": [
    "**2.1 Handling Missing Values**"
   ]
  },
  {
   "cell_type": "code",
   "execution_count": 34,
   "id": "60a1ae8a-fdfe-4b1d-9d14-8ff04d2715b2",
   "metadata": {},
   "outputs": [
    {
     "data": {
      "text/html": [
       "<div>\n",
       "<style scoped>\n",
       "    .dataframe tbody tr th:only-of-type {\n",
       "        vertical-align: middle;\n",
       "    }\n",
       "\n",
       "    .dataframe tbody tr th {\n",
       "        vertical-align: top;\n",
       "    }\n",
       "\n",
       "    .dataframe thead th {\n",
       "        text-align: right;\n",
       "    }\n",
       "</style>\n",
       "<table border=\"1\" class=\"dataframe\">\n",
       "  <thead>\n",
       "    <tr style=\"text-align: right;\">\n",
       "      <th></th>\n",
       "      <th>Transaction ID</th>\n",
       "      <th>Item</th>\n",
       "      <th>Quantity</th>\n",
       "      <th>Price Per Unit</th>\n",
       "      <th>Total Spent</th>\n",
       "      <th>Payment Method</th>\n",
       "      <th>Location</th>\n",
       "      <th>Transaction Date</th>\n",
       "    </tr>\n",
       "  </thead>\n",
       "  <tbody>\n",
       "    <tr>\n",
       "      <th>26</th>\n",
       "      <td>TXN_1193930</td>\n",
       "      <td>Coffee</td>\n",
       "      <td>1.0</td>\n",
       "      <td>2.0</td>\n",
       "      <td>2.0</td>\n",
       "      <td>Cash</td>\n",
       "      <td>NaN</td>\n",
       "      <td>NaN</td>\n",
       "    </tr>\n",
       "    <tr>\n",
       "      <th>68</th>\n",
       "      <td>TXN_1529904</td>\n",
       "      <td>Coffee</td>\n",
       "      <td>1.0</td>\n",
       "      <td>2.0</td>\n",
       "      <td>2.0</td>\n",
       "      <td>Credit Card</td>\n",
       "      <td>In-store</td>\n",
       "      <td>NaN</td>\n",
       "    </tr>\n",
       "    <tr>\n",
       "      <th>73</th>\n",
       "      <td>TXN_1568657</td>\n",
       "      <td>Coffee</td>\n",
       "      <td>2.0</td>\n",
       "      <td>2.0</td>\n",
       "      <td>4.0</td>\n",
       "      <td>Cash</td>\n",
       "      <td>NaN</td>\n",
       "      <td>NaN</td>\n",
       "    </tr>\n",
       "    <tr>\n",
       "      <th>223</th>\n",
       "      <td>TXN_2574545</td>\n",
       "      <td>Coffee</td>\n",
       "      <td>NaN</td>\n",
       "      <td>2.0</td>\n",
       "      <td>4.0</td>\n",
       "      <td>NaN</td>\n",
       "      <td>In-store</td>\n",
       "      <td>NaN</td>\n",
       "    </tr>\n",
       "    <tr>\n",
       "      <th>226</th>\n",
       "      <td>TXN_2607233</td>\n",
       "      <td>Coffee</td>\n",
       "      <td>3.0</td>\n",
       "      <td>2.0</td>\n",
       "      <td>6.0</td>\n",
       "      <td>Cash</td>\n",
       "      <td>Takeaway</td>\n",
       "      <td>NaN</td>\n",
       "    </tr>\n",
       "    <tr>\n",
       "      <th>...</th>\n",
       "      <td>...</td>\n",
       "      <td>...</td>\n",
       "      <td>...</td>\n",
       "      <td>...</td>\n",
       "      <td>...</td>\n",
       "      <td>...</td>\n",
       "      <td>...</td>\n",
       "      <td>...</td>\n",
       "    </tr>\n",
       "    <tr>\n",
       "      <th>9717</th>\n",
       "      <td>TXN_4030010</td>\n",
       "      <td>Sandwich</td>\n",
       "      <td>5.0</td>\n",
       "      <td>4.5</td>\n",
       "      <td>22.5</td>\n",
       "      <td>NaN</td>\n",
       "      <td>Takeaway</td>\n",
       "      <td>NaN</td>\n",
       "    </tr>\n",
       "    <tr>\n",
       "      <th>9725</th>\n",
       "      <td>TXN_2376525</td>\n",
       "      <td>Sandwich</td>\n",
       "      <td>5.0</td>\n",
       "      <td>4.5</td>\n",
       "      <td>22.5</td>\n",
       "      <td>ERROR</td>\n",
       "      <td>NaN</td>\n",
       "      <td>NaN</td>\n",
       "    </tr>\n",
       "    <tr>\n",
       "      <th>9793</th>\n",
       "      <td>TXN_4620459</td>\n",
       "      <td>Sandwich</td>\n",
       "      <td>5.0</td>\n",
       "      <td>4.5</td>\n",
       "      <td>22.5</td>\n",
       "      <td>Cash</td>\n",
       "      <td>ERROR</td>\n",
       "      <td>NaN</td>\n",
       "    </tr>\n",
       "    <tr>\n",
       "      <th>9826</th>\n",
       "      <td>TXN_7133645</td>\n",
       "      <td>Sandwich</td>\n",
       "      <td>5.0</td>\n",
       "      <td>4.5</td>\n",
       "      <td>22.5</td>\n",
       "      <td>Credit Card</td>\n",
       "      <td>Takeaway</td>\n",
       "      <td>NaN</td>\n",
       "    </tr>\n",
       "    <tr>\n",
       "      <th>9957</th>\n",
       "      <td>TXN_4690415</td>\n",
       "      <td>Sandwich</td>\n",
       "      <td>2.0</td>\n",
       "      <td>4.5</td>\n",
       "      <td>9.0</td>\n",
       "      <td>Digital Wallet</td>\n",
       "      <td>NaN</td>\n",
       "      <td>NaN</td>\n",
       "    </tr>\n",
       "  </tbody>\n",
       "</table>\n",
       "<p>159 rows × 8 columns</p>\n",
       "</div>"
      ],
      "text/plain": [
       "     Transaction ID      Item  Quantity  Price Per Unit  Total Spent  \\\n",
       "26      TXN_1193930    Coffee       1.0             2.0          2.0   \n",
       "68      TXN_1529904    Coffee       1.0             2.0          2.0   \n",
       "73      TXN_1568657    Coffee       2.0             2.0          4.0   \n",
       "223     TXN_2574545    Coffee       NaN             2.0          4.0   \n",
       "226     TXN_2607233    Coffee       3.0             2.0          6.0   \n",
       "...             ...       ...       ...             ...          ...   \n",
       "9717    TXN_4030010  Sandwich       5.0             4.5         22.5   \n",
       "9725    TXN_2376525  Sandwich       5.0             4.5         22.5   \n",
       "9793    TXN_4620459  Sandwich       5.0             4.5         22.5   \n",
       "9826    TXN_7133645  Sandwich       5.0             4.5         22.5   \n",
       "9957    TXN_4690415  Sandwich       2.0             4.5          9.0   \n",
       "\n",
       "      Payment Method  Location Transaction Date  \n",
       "26              Cash       NaN              NaN  \n",
       "68       Credit Card  In-store              NaN  \n",
       "73              Cash       NaN              NaN  \n",
       "223              NaN  In-store              NaN  \n",
       "226             Cash  Takeaway              NaN  \n",
       "...              ...       ...              ...  \n",
       "9717             NaN  Takeaway              NaN  \n",
       "9725           ERROR       NaN              NaN  \n",
       "9793            Cash     ERROR              NaN  \n",
       "9826     Credit Card  Takeaway              NaN  \n",
       "9957  Digital Wallet       NaN              NaN  \n",
       "\n",
       "[159 rows x 8 columns]"
      ]
     },
     "execution_count": 34,
     "metadata": {},
     "output_type": "execute_result"
    }
   ],
   "source": [
    "df[df['Transaction Date'].isnull()]"
   ]
  },
  {
   "cell_type": "markdown",
   "id": "88c7d99c-ae71-4a15-b322-947e1a29c11f",
   "metadata": {},
   "source": [
    "The dataframe has 159 rows missing 'Transaction Date', since this column is mandatory and can not be null then better to drop those rows rather than keep it. "
   ]
  },
  {
   "cell_type": "code",
   "execution_count": 36,
   "id": "99c83359-1fb3-4e5a-a12d-f0b92716cb58",
   "metadata": {},
   "outputs": [
    {
     "data": {
      "text/html": [
       "<div>\n",
       "<style scoped>\n",
       "    .dataframe tbody tr th:only-of-type {\n",
       "        vertical-align: middle;\n",
       "    }\n",
       "\n",
       "    .dataframe tbody tr th {\n",
       "        vertical-align: top;\n",
       "    }\n",
       "\n",
       "    .dataframe thead th {\n",
       "        text-align: right;\n",
       "    }\n",
       "</style>\n",
       "<table border=\"1\" class=\"dataframe\">\n",
       "  <thead>\n",
       "    <tr style=\"text-align: right;\">\n",
       "      <th></th>\n",
       "      <th>Transaction ID</th>\n",
       "      <th>Item</th>\n",
       "      <th>Quantity</th>\n",
       "      <th>Price Per Unit</th>\n",
       "      <th>Total Spent</th>\n",
       "      <th>Payment Method</th>\n",
       "      <th>Location</th>\n",
       "      <th>Transaction Date</th>\n",
       "    </tr>\n",
       "  </thead>\n",
       "  <tbody>\n",
       "  </tbody>\n",
       "</table>\n",
       "</div>"
      ],
      "text/plain": [
       "Empty DataFrame\n",
       "Columns: [Transaction ID, Item, Quantity, Price Per Unit, Total Spent, Payment Method, Location, Transaction Date]\n",
       "Index: []"
      ]
     },
     "execution_count": 36,
     "metadata": {},
     "output_type": "execute_result"
    }
   ],
   "source": [
    "df.dropna(subset=['Transaction Date'], inplace=True)\n",
    "df[df['Transaction Date'].isnull()]"
   ]
  },
  {
   "cell_type": "code",
   "execution_count": 37,
   "id": "322da319-a408-494f-80fe-fcecceee2157",
   "metadata": {},
   "outputs": [
    {
     "name": "stdout",
     "output_type": "stream",
     "text": [
      "<class 'pandas.core.frame.DataFrame'>\n",
      "Index: 9841 entries, 0 to 9999\n",
      "Data columns (total 8 columns):\n",
      " #   Column            Non-Null Count  Dtype  \n",
      "---  ------            --------------  -----  \n",
      " 0   Transaction ID    9841 non-null   object \n",
      " 1   Item              9841 non-null   object \n",
      " 2   Quantity          9371 non-null   float64\n",
      " 3   Price Per Unit    9808 non-null   float64\n",
      " 4   Total Spent       9408 non-null   float64\n",
      " 5   Payment Method    7310 non-null   object \n",
      " 6   Location          6630 non-null   object \n",
      " 7   Transaction Date  9841 non-null   object \n",
      "dtypes: float64(3), object(5)\n",
      "memory usage: 691.9+ KB\n"
     ]
    }
   ],
   "source": [
    "df.info()"
   ]
  },
  {
   "cell_type": "markdown",
   "id": "4119145f-76ca-4a19-94b3-d2c92ea3e3bf",
   "metadata": {},
   "source": [
    "**2.2 Handling Invalid Values**"
   ]
  },
  {
   "cell_type": "markdown",
   "id": "b20a6df7-536d-4bee-8631-719449e7044b",
   "metadata": {},
   "source": [
    "Before converting data type of 'Transaction Date' into date, better to handle the invalid value and drop them. "
   ]
  },
  {
   "cell_type": "code",
   "execution_count": 44,
   "id": "147f5f15-041e-4077-af95-08fd6935ee1b",
   "metadata": {},
   "outputs": [
    {
     "name": "stdout",
     "output_type": "stream",
     "text": [
      "<class 'pandas.core.frame.DataFrame'>\n",
      "Index: 9540 entries, 0 to 9999\n",
      "Data columns (total 8 columns):\n",
      " #   Column            Non-Null Count  Dtype  \n",
      "---  ------            --------------  -----  \n",
      " 0   Transaction ID    9540 non-null   object \n",
      " 1   Item              9540 non-null   object \n",
      " 2   Quantity          9086 non-null   float64\n",
      " 3   Price Per Unit    9508 non-null   float64\n",
      " 4   Total Spent       9120 non-null   float64\n",
      " 5   Payment Method    7101 non-null   object \n",
      " 6   Location          6422 non-null   object \n",
      " 7   Transaction Date  9540 non-null   object \n",
      "dtypes: float64(3), object(5)\n",
      "memory usage: 670.8+ KB\n"
     ]
    }
   ],
   "source": [
    "idx_invalid_trxdate = df[np.logical_or(df['Transaction Date']=='ERROR', df['Transaction Date']=='UNKNOWN')].index\n",
    "df.drop(idx_invalid_trxdate, inplace=True)\n",
    "df.info()"
   ]
  },
  {
   "cell_type": "code",
   "execution_count": 45,
   "id": "4dc2c5ed-a47e-4cc0-9a7c-a71ca79fbcef",
   "metadata": {},
   "outputs": [
    {
     "name": "stderr",
     "output_type": "stream",
     "text": [
      "/var/folders/lg/fsm8s9v909b1k6v2b54vczfw0000gn/T/ipykernel_83607/2254297040.py:1: UserWarning: Could not infer format, so each element will be parsed individually, falling back to `dateutil`. To ensure parsing is consistent and as-expected, please specify a format.\n",
      "  df['Transaction Date'] = pd.to_datetime(df['Transaction Date'])\n"
     ]
    }
   ],
   "source": [
    "# Convert data type into datetime\n",
    "df['Transaction Date'] = pd.to_datetime(df['Transaction Date'])\n",
    "df.info()"
   ]
  },
  {
   "cell_type": "code",
   "execution_count": 47,
   "id": "56426d81-90ed-4ea3-929e-8a384701fadc",
   "metadata": {},
   "outputs": [
    {
     "data": {
      "text/html": [
       "<div>\n",
       "<style scoped>\n",
       "    .dataframe tbody tr th:only-of-type {\n",
       "        vertical-align: middle;\n",
       "    }\n",
       "\n",
       "    .dataframe tbody tr th {\n",
       "        vertical-align: top;\n",
       "    }\n",
       "\n",
       "    .dataframe thead th {\n",
       "        text-align: right;\n",
       "    }\n",
       "</style>\n",
       "<table border=\"1\" class=\"dataframe\">\n",
       "  <thead>\n",
       "    <tr style=\"text-align: right;\">\n",
       "      <th></th>\n",
       "      <th>Transaction ID</th>\n",
       "      <th>Item</th>\n",
       "      <th>Quantity</th>\n",
       "      <th>Price Per Unit</th>\n",
       "      <th>Total Spent</th>\n",
       "      <th>Payment Method</th>\n",
       "      <th>Location</th>\n",
       "      <th>Transaction Date</th>\n",
       "    </tr>\n",
       "  </thead>\n",
       "  <tbody>\n",
       "    <tr>\n",
       "      <th>0</th>\n",
       "      <td>TXN_1005331</td>\n",
       "      <td>Coffee</td>\n",
       "      <td>1.0</td>\n",
       "      <td>2.0</td>\n",
       "      <td>2.0</td>\n",
       "      <td>Digital Wallet</td>\n",
       "      <td>Takeaway</td>\n",
       "      <td>2023-04-11</td>\n",
       "    </tr>\n",
       "    <tr>\n",
       "      <th>1</th>\n",
       "      <td>TXN_1005472</td>\n",
       "      <td>Coffee</td>\n",
       "      <td>4.0</td>\n",
       "      <td>2.0</td>\n",
       "      <td>8.0</td>\n",
       "      <td>Credit Card</td>\n",
       "      <td>NaN</td>\n",
       "      <td>2023-04-21</td>\n",
       "    </tr>\n",
       "    <tr>\n",
       "      <th>2</th>\n",
       "      <td>TXN_1016246</td>\n",
       "      <td>Coffee</td>\n",
       "      <td>1.0</td>\n",
       "      <td>2.0</td>\n",
       "      <td>2.0</td>\n",
       "      <td>ERROR</td>\n",
       "      <td>NaN</td>\n",
       "      <td>2023-01-19</td>\n",
       "    </tr>\n",
       "    <tr>\n",
       "      <th>3</th>\n",
       "      <td>TXN_1020478</td>\n",
       "      <td>Coffee</td>\n",
       "      <td>1.0</td>\n",
       "      <td>2.0</td>\n",
       "      <td>2.0</td>\n",
       "      <td>Digital Wallet</td>\n",
       "      <td>Takeaway</td>\n",
       "      <td>2023-09-03</td>\n",
       "    </tr>\n",
       "    <tr>\n",
       "      <th>4</th>\n",
       "      <td>TXN_1040764</td>\n",
       "      <td>Coffee</td>\n",
       "      <td>3.0</td>\n",
       "      <td>2.0</td>\n",
       "      <td>6.0</td>\n",
       "      <td>Cash</td>\n",
       "      <td>Takeaway</td>\n",
       "      <td>2023-07-27</td>\n",
       "    </tr>\n",
       "  </tbody>\n",
       "</table>\n",
       "</div>"
      ],
      "text/plain": [
       "  Transaction ID    Item  Quantity  Price Per Unit  Total Spent  \\\n",
       "0    TXN_1005331  Coffee       1.0             2.0          2.0   \n",
       "1    TXN_1005472  Coffee       4.0             2.0          8.0   \n",
       "2    TXN_1016246  Coffee       1.0             2.0          2.0   \n",
       "3    TXN_1020478  Coffee       1.0             2.0          2.0   \n",
       "4    TXN_1040764  Coffee       3.0             2.0          6.0   \n",
       "\n",
       "   Payment Method  Location Transaction Date  \n",
       "0  Digital Wallet  Takeaway       2023-04-11  \n",
       "1     Credit Card       NaN       2023-04-21  \n",
       "2           ERROR       NaN       2023-01-19  \n",
       "3  Digital Wallet  Takeaway       2023-09-03  \n",
       "4            Cash  Takeaway       2023-07-27  "
      ]
     },
     "execution_count": 47,
     "metadata": {},
     "output_type": "execute_result"
    }
   ],
   "source": [
    "df.head()"
   ]
  },
  {
   "cell_type": "code",
   "execution_count": null,
   "id": "08d1e77b-8b49-4ec2-b1bb-cec24ddb872f",
   "metadata": {},
   "outputs": [],
   "source": []
  }
 ],
 "metadata": {
  "kernelspec": {
   "display_name": "Python 3 (ipykernel)",
   "language": "python",
   "name": "python3"
  },
  "language_info": {
   "codemirror_mode": {
    "name": "ipython",
    "version": 3
   },
   "file_extension": ".py",
   "mimetype": "text/x-python",
   "name": "python",
   "nbconvert_exporter": "python",
   "pygments_lexer": "ipython3",
   "version": "3.8.20"
  }
 },
 "nbformat": 4,
 "nbformat_minor": 5
}
